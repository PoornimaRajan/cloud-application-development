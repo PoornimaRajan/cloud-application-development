{
 "cells": [
  {
   "cell_type": "code",
   "execution_count": 212,
   "metadata": {
    "collapsed": true
   },
   "outputs": [
    {
     "name": "stderr",
     "output_type": "stream",
     "text": [
      "[nltk_data] Downloading package wordnet to\n",
      "[nltk_data]     C:\\Users\\Gautham\\AppData\\Roaming\\nltk_data...\n",
      "[nltk_data]   Package wordnet is already up-to-date!\n"
     ]
    },
    {
     "data": {
      "text/plain": [
       "True"
      ]
     },
     "execution_count": 212,
     "metadata": {},
     "output_type": "execute_result"
    }
   ],
   "source": [
    "### Importing all libraries\n",
    "import nltk\n",
    "\n",
    "from textblob import TextBlob\n",
    "\n",
    "from nltk.tokenize import word_tokenize\n",
    "from nltk.corpus import stopwords\n",
    "from nltk.stem.wordnet import WordNetLemmatizer\n",
    "from nltk.stem.porter import PorterStemmer\n",
    "nltk.download('wordnet')"
   ]
  },
  {
   "cell_type": "code",
   "execution_count": 253,
   "metadata": {},
   "outputs": [],
   "source": [
    "### Importing the file\n",
    "import pandas as pd\n",
    "\n",
    "text_table = pd.read_csv(\"D:/MCM1/Sem1/CA675_Cloud_Technology/Assignment2/Tweets/Output/4MotoX.csv\", header=None)\n",
    "df = pd.DataFrame(text_table)\n"
   ]
  },
  {
   "cell_type": "code",
   "execution_count": 254,
   "metadata": {},
   "outputs": [
    {
     "data": {
      "text/html": [
       "<div>\n",
       "<style scoped>\n",
       "    .dataframe tbody tr th:only-of-type {\n",
       "        vertical-align: middle;\n",
       "    }\n",
       "\n",
       "    .dataframe tbody tr th {\n",
       "        vertical-align: top;\n",
       "    }\n",
       "\n",
       "    .dataframe thead th {\n",
       "        text-align: right;\n",
       "    }\n",
       "</style>\n",
       "<table border=\"1\" class=\"dataframe\">\n",
       "  <thead>\n",
       "    <tr style=\"text-align: right;\">\n",
       "      <th></th>\n",
       "      <th>0</th>\n",
       "    </tr>\n",
       "  </thead>\n",
       "  <tbody>\n",
       "    <tr>\n",
       "      <td>1</td>\n",
       "      <td>Fantastic phone and the photos are wonderful.</td>\n",
       "    </tr>\n",
       "    <tr>\n",
       "      <td>2</td>\n",
       "      <td>Just right ... great choice</td>\n",
       "    </tr>\n",
       "    <tr>\n",
       "      <td>3</td>\n",
       "      <td>Excellent all perfect</td>\n",
       "    </tr>\n",
       "    <tr>\n",
       "      <td>4</td>\n",
       "      <td>I personally love this phone. I typically get ...</td>\n",
       "    </tr>\n",
       "    <tr>\n",
       "      <td>5</td>\n",
       "      <td>Great phone best camera my wife has had. Bough...</td>\n",
       "    </tr>\n",
       "    <tr>\n",
       "      <td>6</td>\n",
       "      <td>perfect phone I just love it buy it your be gl...</td>\n",
       "    </tr>\n",
       "    <tr>\n",
       "      <td>7</td>\n",
       "      <td>This is my second smartphone. Compared to the ...</td>\n",
       "    </tr>\n",
       "    <tr>\n",
       "      <td>8</td>\n",
       "      <td>Excellent, working as expected. No issues duri...</td>\n",
       "    </tr>\n",
       "    <tr>\n",
       "      <td>9</td>\n",
       "      <td>After a month the screen had to receive at lea...</td>\n",
       "    </tr>\n",
       "    <tr>\n",
       "      <td>10</td>\n",
       "      <td>This is the best phone I have ever owned, tons...</td>\n",
       "    </tr>\n",
       "    <tr>\n",
       "      <td>11</td>\n",
       "      <td>The best phone you can buy for $300.</td>\n",
       "    </tr>\n",
       "    <tr>\n",
       "      <td>12</td>\n",
       "      <td>This is the best for the price</td>\n",
       "    </tr>\n",
       "    <tr>\n",
       "      <td>13</td>\n",
       "      <td>I already liked this phone A LOT, but today it...</td>\n",
       "    </tr>\n",
       "    <tr>\n",
       "      <td>14</td>\n",
       "      <td>Excellent Value phone. I do love it. Fast, bea...</td>\n",
       "    </tr>\n",
       "    <tr>\n",
       "      <td>15</td>\n",
       "      <td>I love this phone, never had a Moto before and...</td>\n",
       "    </tr>\n",
       "    <tr>\n",
       "      <td>16</td>\n",
       "      <td>I was sceptical about buying this phone but I ...</td>\n",
       "    </tr>\n",
       "    <tr>\n",
       "      <td>17</td>\n",
       "      <td>GREAT PICS</td>\n",
       "    </tr>\n",
       "    <tr>\n",
       "      <td>18</td>\n",
       "      <td>This phone worked for 3 months, now have the s...</td>\n",
       "    </tr>\n",
       "    <tr>\n",
       "      <td>19</td>\n",
       "      <td>Everything perfect. Arrived on time and in per...</td>\n",
       "    </tr>\n",
       "  </tbody>\n",
       "</table>\n",
       "</div>"
      ],
      "text/plain": [
       "                                                    0\n",
       "1       Fantastic phone and the photos are wonderful.\n",
       "2                         Just right ... great choice\n",
       "3                               Excellent all perfect\n",
       "4   I personally love this phone. I typically get ...\n",
       "5   Great phone best camera my wife has had. Bough...\n",
       "6   perfect phone I just love it buy it your be gl...\n",
       "7   This is my second smartphone. Compared to the ...\n",
       "8   Excellent, working as expected. No issues duri...\n",
       "9   After a month the screen had to receive at lea...\n",
       "10  This is the best phone I have ever owned, tons...\n",
       "11               The best phone you can buy for $300.\n",
       "12                     This is the best for the price\n",
       "13  I already liked this phone A LOT, but today it...\n",
       "14  Excellent Value phone. I do love it. Fast, bea...\n",
       "15  I love this phone, never had a Moto before and...\n",
       "16  I was sceptical about buying this phone but I ...\n",
       "17                                         GREAT PICS\n",
       "18  This phone worked for 3 months, now have the s...\n",
       "19  Everything perfect. Arrived on time and in per..."
      ]
     },
     "execution_count": 254,
     "metadata": {},
     "output_type": "execute_result"
    }
   ],
   "source": [
    "### Checking if the data loaded is in correct format\n",
    "df[1:20]"
   ]
  },
  {
   "cell_type": "code",
   "execution_count": 255,
   "metadata": {},
   "outputs": [],
   "source": [
    "### creating column [1] as tokenized words and [2] with empty string for tokenization\n",
    "df.columns\n",
    "df[1] = df[0].apply(word_tokenize)\n",
    "\n"
   ]
  },
  {
   "cell_type": "code",
   "execution_count": 256,
   "metadata": {
    "collapsed": true
   },
   "outputs": [
    {
     "name": "stderr",
     "output_type": "stream",
     "text": [
      "C:\\Users\\Gautham\\Anaconda3\\lib\\site-packages\\ipykernel_launcher.py:49: FutureWarning: set_value is deprecated and will be removed in a future release. Please use .at[] or .iat[] accessors instead\n"
     ]
    }
   ],
   "source": [
    "### Perform lemmatization and convert to simple parts of speech\n",
    "\n",
    "from nltk.tag import pos_tag\n",
    "from nltk.stem.wordnet import WordNetLemmatizer\n",
    "\n",
    "import re\n",
    "\n",
    "def lemmatize_sentence(tokens):\n",
    "    lemmatizer = WordNetLemmatizer()\n",
    "    lemmatized_sentence = []\n",
    "    for word, tag in pos_tag(tokens):\n",
    "        if tag.startswith('NN'):\n",
    "            pos = 'n'\n",
    "        elif tag.startswith('VB'):\n",
    "            pos = 'v'\n",
    "        else:\n",
    "            pos = 'a'\n",
    "        lemmatized_sentence.append(lemmatizer.lemmatize(word, pos))\n",
    "    return lemmatized_sentence\n",
    "\n",
    "\n",
    "def untokenize(words):\n",
    "    \n",
    "    text = ' '.join(words)\n",
    "    step1 = text.replace(\"`` \", '').replace(\" ''\", '').replace('. . .',  '.')\n",
    "    step2 = step1.replace(\" ( \", \"(\").replace(\" ) \", \")\").replace(\",\",\"\")\n",
    "    step3 = re.sub(r' ([.,:;?!%]+)([ \\'\"`])', r\" \", step2)\n",
    "    step4 = re.sub(r' ([.,:;?!%]+)$', r\" \", step3)\n",
    "    step5 = step4.replace(\" '\", \"\").replace(\" n't\", \"nt\").replace(\n",
    "         \"can not\", \"cannot\")\n",
    "    step6 = step5.replace(\" ` \", \"\")\n",
    "    return step6.strip()\n",
    "\n",
    "\n",
    "for index, row in df.iterrows():\n",
    "    df_tb_temp = lemmatize_sentence(df.iat[index,1])\n",
    "    df_tb_temp2 = untokenize(df_tb_temp)\n",
    "    df.set_value(index,1,df_tb_temp2)"
   ]
  },
  {
   "cell_type": "code",
   "execution_count": 217,
   "metadata": {},
   "outputs": [],
   "source": [
    "### Translation:\n",
    "# for index, row in df.iterrows():\n",
    "#     df_tb_temp = TextBlob(df.iat[index,0])\n",
    "#     df.set_value(index,1,df_tb_temp.translate('en'))\n",
    "    "
   ]
  },
  {
   "cell_type": "code",
   "execution_count": 257,
   "metadata": {
    "collapsed": true
   },
   "outputs": [
    {
     "name": "stderr",
     "output_type": "stream",
     "text": [
      "C:\\Users\\Gautham\\Anaconda3\\lib\\site-packages\\ipykernel_launcher.py:10: FutureWarning: set_value is deprecated and will be removed in a future release. Please use .at[] or .iat[] accessors instead\n",
      "  # Remove the CWD from sys.path while we load stuff.\n",
      "C:\\Users\\Gautham\\Anaconda3\\lib\\site-packages\\ipykernel_launcher.py:13: FutureWarning: set_value is deprecated and will be removed in a future release. Please use .at[] or .iat[] accessors instead\n",
      "  del sys.path[0]\n",
      "C:\\Users\\Gautham\\Anaconda3\\lib\\site-packages\\ipykernel_launcher.py:15: FutureWarning: set_value is deprecated and will be removed in a future release. Please use .at[] or .iat[] accessors instead\n",
      "  from ipykernel import kernelapp as app\n",
      "C:\\Users\\Gautham\\Anaconda3\\lib\\site-packages\\ipykernel_launcher.py:17: FutureWarning: set_value is deprecated and will be removed in a future release. Please use .at[] or .iat[] accessors instead\n"
     ]
    }
   ],
   "source": [
    "### Adding a new column with polarity values\n",
    "    \n",
    "for index, row in df.iterrows():\n",
    "    df_tb_temp = TextBlob(df.iat[index,1])\n",
    "    x = float(0.00)\n",
    "    temp_score1 = df_tb_temp.sentiment.polarity\n",
    "    temp_score2 = float(temp_score1)\n",
    "    temp_score = format(temp_score2, '.2f')\n",
    "    temp_score = float(temp_score)\n",
    "    df.set_value(index,2,temp_score1)\n",
    "    \n",
    "    if (temp_score > x):\n",
    "        df.set_value(index,3,'pos')\n",
    "    elif (temp_score == x):\n",
    "        df.set_value(index,3,'neu')\n",
    "    else:\n",
    "        df.set_value(index,3,'neg')  \n",
    "    df_tb_temp = 0\n"
   ]
  },
  {
   "cell_type": "code",
   "execution_count": 258,
   "metadata": {},
   "outputs": [
    {
     "data": {
      "text/plain": [
       "Int64Index([0, 1, 2, 3], dtype='int64')"
      ]
     },
     "execution_count": 258,
     "metadata": {},
     "output_type": "execute_result"
    }
   ],
   "source": [
    "### Check the column indices and column count\n",
    "df.columns"
   ]
  },
  {
   "cell_type": "code",
   "execution_count": 259,
   "metadata": {},
   "outputs": [],
   "source": [
    "### Naming of columns\n",
    "df.columns = ['text','tokens','polarity','sentiment']"
   ]
  },
  {
   "cell_type": "code",
   "execution_count": 260,
   "metadata": {},
   "outputs": [],
   "source": [
    "### Removing column 'tokens'\n",
    "### Adding column for Phone ID\n",
    "\n",
    "df = df.drop(\"text\", axis=1)\n",
    "df['phone_id'] = 104\n",
    "df['index1'] = df.index\n"
   ]
  },
  {
   "cell_type": "code",
   "execution_count": 261,
   "metadata": {
    "collapsed": true
   },
   "outputs": [
    {
     "name": "stderr",
     "output_type": "stream",
     "text": [
      "C:\\Users\\Gautham\\Anaconda3\\lib\\site-packages\\ipykernel_launcher.py:3: SettingWithCopyWarning: \n",
      "A value is trying to be set on a copy of a slice from a DataFrame.\n",
      "Try using .loc[row_indexer,col_indexer] = value instead\n",
      "\n",
      "See the caveats in the documentation: http://pandas.pydata.org/pandas-docs/stable/user_guide/indexing.html#returning-a-view-versus-a-copy\n",
      "  This is separate from the ipykernel package so we can avoid doing imports until\n",
      "C:\\Users\\Gautham\\Anaconda3\\lib\\site-packages\\ipykernel_launcher.py:5: SettingWithCopyWarning: \n",
      "A value is trying to be set on a copy of a slice from a DataFrame.\n",
      "Try using .loc[row_indexer,col_indexer] = value instead\n",
      "\n",
      "See the caveats in the documentation: http://pandas.pydata.org/pandas-docs/stable/user_guide/indexing.html#returning-a-view-versus-a-copy\n",
      "  \"\"\"\n",
      "C:\\Users\\Gautham\\Anaconda3\\lib\\site-packages\\ipykernel_launcher.py:7: SettingWithCopyWarning: \n",
      "A value is trying to be set on a copy of a slice from a DataFrame.\n",
      "Try using .loc[row_indexer,col_indexer] = value instead\n",
      "\n",
      "See the caveats in the documentation: http://pandas.pydata.org/pandas-docs/stable/user_guide/indexing.html#returning-a-view-versus-a-copy\n",
      "  import sys\n",
      "C:\\Users\\Gautham\\Anaconda3\\lib\\site-packages\\ipykernel_launcher.py:9: SettingWithCopyWarning: \n",
      "A value is trying to be set on a copy of a slice from a DataFrame.\n",
      "Try using .loc[row_indexer,col_indexer] = value instead\n",
      "\n",
      "See the caveats in the documentation: http://pandas.pydata.org/pandas-docs/stable/user_guide/indexing.html#returning-a-view-versus-a-copy\n",
      "  if __name__ == '__main__':\n",
      "C:\\Users\\Gautham\\Anaconda3\\lib\\site-packages\\ipykernel_launcher.py:11: SettingWithCopyWarning: \n",
      "A value is trying to be set on a copy of a slice from a DataFrame.\n",
      "Try using .loc[row_indexer,col_indexer] = value instead\n",
      "\n",
      "See the caveats in the documentation: http://pandas.pydata.org/pandas-docs/stable/user_guide/indexing.html#returning-a-view-versus-a-copy\n",
      "  # This is added back by InteractiveShellApp.init_path()\n"
     ]
    }
   ],
   "source": [
    "### Sub tables for each spec\n",
    "df_spec1 = df[df['tokens'].str.contains('display|screen')]\n",
    "df_spec1['spec_id'] = 201\n",
    "df_spec2 = df[df['tokens'].str.contains('battery')]\n",
    "df_spec2['spec_id'] = 202\n",
    "df_spec3 = df[df['tokens'].str.contains('performance')]\n",
    "df_spec3['spec_id'] = 203\n",
    "df_spec4 = df[df['tokens'].str.contains('camera')]\n",
    "df_spec4['spec_id'] = 204\n",
    "df_spec5 = df[df['tokens'].str.contains('speaker|sound')]\n",
    "df_spec5['spec_id'] = 205\n",
    "df_spec6 = df[df['tokens'].str.contains('fingerprint|face id|faceid')]\n",
    "df_spec6['spec_id'] = 206"
   ]
  },
  {
   "cell_type": "code",
   "execution_count": 262,
   "metadata": {},
   "outputs": [
    {
     "name": "stdout",
     "output_type": "stream",
     "text": [
      "Spec1_pos is  286 \n",
      "Spec1_neu is  10 \n",
      "Spec1_neg is  27 \n",
      "Spec2_pos is  200 \n",
      "Spec2_neu is  2 \n",
      "Spec2_neg is  16 \n",
      "Spec3_pos is  69 \n",
      "Spec3_neu is  0 \n",
      "Spec3_neg is  1 \n",
      "Spec4_pos is  180 \n",
      "Spec4_neu is  6 \n",
      "Spec4_neg is  3 \n",
      "Spec5_pos is  61 \n",
      "Spec5_neu is  1 \n",
      "Spec5_neg is  5 \n",
      "Spec6_pos is  0 \n",
      "Spec6_neu is  0 \n",
      "Spec6_neg is  0 \n"
     ]
    }
   ],
   "source": [
    "### Count of sentiments by tables:\n",
    "print ('Spec1_pos is  {} '.format(df_spec1['sentiment'].str.contains('pos').sum()))\n",
    "print ('Spec1_neu is  {} '.format(df_spec1['sentiment'].str.contains('neu').sum()))\n",
    "print ('Spec1_neg is  {} '.format(df_spec1['sentiment'].str.contains('neg').sum()))\n",
    "print ('Spec2_pos is  {} '.format(df_spec2['sentiment'].str.contains('pos').sum()))\n",
    "print ('Spec2_neu is  {} '.format(df_spec2['sentiment'].str.contains('neu').sum()))\n",
    "print ('Spec2_neg is  {} '.format(df_spec2['sentiment'].str.contains('neg').sum()))\n",
    "print ('Spec3_pos is  {} '.format(df_spec3['sentiment'].str.contains('pos').sum()))\n",
    "print ('Spec3_neu is  {} '.format(df_spec3['sentiment'].str.contains('neu').sum()))\n",
    "print ('Spec3_neg is  {} '.format(df_spec3['sentiment'].str.contains('neg').sum()))\n",
    "print ('Spec4_pos is  {} '.format(df_spec4['sentiment'].str.contains('pos').sum()))\n",
    "print ('Spec4_neu is  {} '.format(df_spec4['sentiment'].str.contains('neu').sum()))\n",
    "print ('Spec4_neg is  {} '.format(df_spec4['sentiment'].str.contains('neg').sum()))\n",
    "print ('Spec5_pos is  {} '.format(df_spec5['sentiment'].str.contains('pos').sum()))\n",
    "print ('Spec5_neu is  {} '.format(df_spec5['sentiment'].str.contains('neu').sum()))\n",
    "print ('Spec5_neg is  {} '.format(df_spec5['sentiment'].str.contains('neg').sum()))\n",
    "print ('Spec6_pos is  {} '.format(df_spec6['sentiment'].str.contains('pos').sum()))\n",
    "print ('Spec6_neu is  {} '.format(df_spec6['sentiment'].str.contains('neu').sum()))\n",
    "print ('Spec6_neg is  {} '.format(df_spec6['sentiment'].str.contains('neg').sum()))"
   ]
  },
  {
   "cell_type": "code",
   "execution_count": 263,
   "metadata": {},
   "outputs": [
    {
     "name": "stdout",
     "output_type": "stream",
     "text": [
      "323\n",
      "541\n",
      "611\n",
      "867\n"
     ]
    }
   ],
   "source": [
    "#Appending all the reviews by spec table\n",
    "print (len(df_spec1))\n",
    "df_spec1 = df_spec1.append(df_spec2, ignore_index = True) \n",
    "print (len(df_spec1))\n",
    "df_spec1 = df_spec1.append(df_spec3, ignore_index = True) \n",
    "print (len(df_spec1))\n",
    "df_spec1 = df_spec1.append(df_spec4, ignore_index = True) \n",
    "df_spec1 = df_spec1.append(df_spec5, ignore_index = True) \n",
    "df_spec1 = df_spec1.append(df_spec6, ignore_index = True) \n",
    "print (len(df_spec1))\n",
    "\n"
   ]
  },
  {
   "cell_type": "code",
   "execution_count": 264,
   "metadata": {},
   "outputs": [
    {
     "data": {
      "text/html": [
       "<div>\n",
       "<style scoped>\n",
       "    .dataframe tbody tr th:only-of-type {\n",
       "        vertical-align: middle;\n",
       "    }\n",
       "\n",
       "    .dataframe tbody tr th {\n",
       "        vertical-align: top;\n",
       "    }\n",
       "\n",
       "    .dataframe thead th {\n",
       "        text-align: right;\n",
       "    }\n",
       "</style>\n",
       "<table border=\"1\" class=\"dataframe\">\n",
       "  <thead>\n",
       "    <tr style=\"text-align: right;\">\n",
       "      <th></th>\n",
       "      <th>tokens</th>\n",
       "      <th>polarity</th>\n",
       "      <th>sentiment</th>\n",
       "      <th>phone_id</th>\n",
       "      <th>index1</th>\n",
       "      <th>spec_id</th>\n",
       "    </tr>\n",
       "  </thead>\n",
       "  <tbody>\n",
       "    <tr>\n",
       "      <td>30</td>\n",
       "      <td>I be crazy about this phone before I be able t...</td>\n",
       "      <td>0.338795</td>\n",
       "      <td>pos</td>\n",
       "      <td>104</td>\n",
       "      <td>162</td>\n",
       "      <td>201</td>\n",
       "    </tr>\n",
       "    <tr>\n",
       "      <td>31</td>\n",
       "      <td>I dont give the 5 star because when i opend it...</td>\n",
       "      <td>0.437500</td>\n",
       "      <td>pos</td>\n",
       "      <td>104</td>\n",
       "      <td>169</td>\n",
       "      <td>201</td>\n",
       "    </tr>\n",
       "    <tr>\n",
       "      <td>32</td>\n",
       "      <td>I really really love it Im from Philippines an...</td>\n",
       "      <td>0.204948</td>\n",
       "      <td>pos</td>\n",
       "      <td>104</td>\n",
       "      <td>171</td>\n",
       "      <td>201</td>\n",
       "    </tr>\n",
       "    <tr>\n",
       "      <td>33</td>\n",
       "      <td>I buy it directly from Amazon It be brand new ...</td>\n",
       "      <td>0.249631</td>\n",
       "      <td>pos</td>\n",
       "      <td>104</td>\n",
       "      <td>174</td>\n",
       "      <td>201</td>\n",
       "    </tr>\n",
       "    <tr>\n",
       "      <td>34</td>\n",
       "      <td>Have to give 2 star This be a nice phone at fi...</td>\n",
       "      <td>0.123710</td>\n",
       "      <td>pos</td>\n",
       "      <td>104</td>\n",
       "      <td>176</td>\n",
       "      <td>201</td>\n",
       "    </tr>\n",
       "    <tr>\n",
       "      <td>35</td>\n",
       "      <td>Some difficulty use it overseas on foreign net...</td>\n",
       "      <td>0.047619</td>\n",
       "      <td>pos</td>\n",
       "      <td>104</td>\n",
       "      <td>182</td>\n",
       "      <td>201</td>\n",
       "    </tr>\n",
       "    <tr>\n",
       "      <td>36</td>\n",
       "      <td>Got it use for $ 152 they say it be in good co...</td>\n",
       "      <td>0.296645</td>\n",
       "      <td>pos</td>\n",
       "      <td>104</td>\n",
       "      <td>198</td>\n",
       "      <td>201</td>\n",
       "    </tr>\n",
       "    <tr>\n",
       "      <td>37</td>\n",
       "      <td>This be probably the best phone I have ever ha...</td>\n",
       "      <td>0.783333</td>\n",
       "      <td>pos</td>\n",
       "      <td>104</td>\n",
       "      <td>201</td>\n",
       "      <td>201</td>\n",
       "    </tr>\n",
       "    <tr>\n",
       "      <td>38</td>\n",
       "      <td>this phone suck  have many defect The screensh...</td>\n",
       "      <td>-0.233333</td>\n",
       "      <td>neg</td>\n",
       "      <td>104</td>\n",
       "      <td>215</td>\n",
       "      <td>201</td>\n",
       "    </tr>\n",
       "    <tr>\n",
       "      <td>39</td>\n",
       "      <td>This phone do it all Great reception  audio an...</td>\n",
       "      <td>0.287846</td>\n",
       "      <td>pos</td>\n",
       "      <td>104</td>\n",
       "      <td>244</td>\n",
       "      <td>201</td>\n",
       "    </tr>\n",
       "  </tbody>\n",
       "</table>\n",
       "</div>"
      ],
      "text/plain": [
       "                                               tokens  polarity sentiment  \\\n",
       "30  I be crazy about this phone before I be able t...  0.338795       pos   \n",
       "31  I dont give the 5 star because when i opend it...  0.437500       pos   \n",
       "32  I really really love it Im from Philippines an...  0.204948       pos   \n",
       "33  I buy it directly from Amazon It be brand new ...  0.249631       pos   \n",
       "34  Have to give 2 star This be a nice phone at fi...  0.123710       pos   \n",
       "35  Some difficulty use it overseas on foreign net...  0.047619       pos   \n",
       "36  Got it use for $ 152 they say it be in good co...  0.296645       pos   \n",
       "37  This be probably the best phone I have ever ha...  0.783333       pos   \n",
       "38  this phone suck  have many defect The screensh... -0.233333       neg   \n",
       "39  This phone do it all Great reception  audio an...  0.287846       pos   \n",
       "\n",
       "    phone_id  index1  spec_id  \n",
       "30       104     162      201  \n",
       "31       104     169      201  \n",
       "32       104     171      201  \n",
       "33       104     174      201  \n",
       "34       104     176      201  \n",
       "35       104     182      201  \n",
       "36       104     198      201  \n",
       "37       104     201      201  \n",
       "38       104     215      201  \n",
       "39       104     244      201  "
      ]
     },
     "execution_count": 264,
     "metadata": {},
     "output_type": "execute_result"
    }
   ],
   "source": [
    "### Checking a sample of the spec table\n",
    "df_spec1[30:40]"
   ]
  },
  {
   "cell_type": "code",
   "execution_count": 265,
   "metadata": {},
   "outputs": [],
   "source": [
    "### Export the output:\n",
    "df.to_csv(r'D:/MCM1/Sem1/CA675_Cloud_Technology/Assignment2/Output_tables/4MotoX_op_whole.csv', header=True, index=False)\n",
    "df_spec1.to_csv(r'D:/MCM1/Sem1/CA675_Cloud_Technology/Assignment2/Output_tables/4MotoX_op_spec.csv', header=True, index=False)"
   ]
  },
  {
   "cell_type": "code",
   "execution_count": null,
   "metadata": {},
   "outputs": [],
   "source": []
  }
 ],
 "metadata": {
  "kernelspec": {
   "display_name": "Python 3",
   "language": "python",
   "name": "python3"
  },
  "language_info": {
   "codemirror_mode": {
    "name": "ipython",
    "version": 3
   },
   "file_extension": ".py",
   "mimetype": "text/x-python",
   "name": "python",
   "nbconvert_exporter": "python",
   "pygments_lexer": "ipython3",
   "version": "3.7.3"
  }
 },
 "nbformat": 4,
 "nbformat_minor": 2
}
